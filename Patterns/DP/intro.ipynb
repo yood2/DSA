{
 "cells": [
  {
   "cell_type": "markdown",
   "metadata": {},
   "source": [
    "# Introduction to Dynamic Programming\n",
    "DP is a method used in math and CS to solve complex problems by breaking them down into simpler subproblems. Among DP algorithms, there is a Memoization (top-down) approach, and a Tabulation (bottom-up) approach.\n",
    "\n",
    "**TLDR:** Kind of like recurision, but we save all the results of subproblems to solve a bigger problem."
   ]
  },
  {
   "cell_type": "markdown",
   "metadata": {},
   "source": [
    "# Recursion - Brute Force, Memoization, Tabulation\n",
    "A great example of DP is the Fibonacci sequence. A brute force example can be seen below:"
   ]
  },
  {
   "cell_type": "code",
   "execution_count": 9,
   "metadata": {},
   "outputs": [
    {
     "data": {
      "text/plain": [
       "3"
      ]
     },
     "execution_count": 9,
     "metadata": {},
     "output_type": "execute_result"
    }
   ],
   "source": [
    "def fib(n):\n",
    "    if n == 0:\n",
    "        return 0\n",
    "    elif n <= 2:\n",
    "        return 1\n",
    "    return fib(n-1) + fib(n-2)\n",
    "    \n",
    "fib(4) # output is 3"
   ]
  },
  {
   "cell_type": "markdown",
   "metadata": {},
   "source": [
    "## Recursion using Memoization\n",
    "Next, we will show an example using **Memoization**. Basically, we recursively solve the problem and store the results of subproblems in a cache. Before we compute a subproblem, we check if it has been solved before in the cache. This allows us to avoid redundant calculations.\n",
    "\n",
    "#### Pros\n",
    "- Easy to implement recursively\n",
    "- Useful for problems where only subset of all possible subproblems are needed\n",
    "\n",
    "#### Cons\n",
    "- Big overhead due to recursion and function calls\n",
    "- Memory usage can get high from activation frames\n",
    "- Stack overflow for deep recursion (depends on language, probably not python)"
   ]
  },
  {
   "cell_type": "code",
   "execution_count": 10,
   "metadata": {},
   "outputs": [
    {
     "data": {
      "text/plain": [
       "89"
      ]
     },
     "execution_count": 10,
     "metadata": {},
     "output_type": "execute_result"
    }
   ],
   "source": [
    "memo = {}\n",
    "\n",
    "def memo_fib(n):\n",
    "    if n in memo:\n",
    "        return memo[n]\n",
    "    elif n == 0:\n",
    "        result = 0\n",
    "    elif n <= 2:\n",
    "        result = 1\n",
    "    else:\n",
    "        result = memo_fib(n-1) + memo_fib(n-2)\n",
    "    memo[n] = result\n",
    "    return result\n",
    "\n",
    "fib(11)"
   ]
  },
  {
   "cell_type": "markdown",
   "metadata": {},
   "source": [
    "## Recursion using Tabulation\n",
    "Now we will use **Tabulation** or the bottom-up approach. Basically, we iteratively solve subproblems first and build up to the original problem while using an array or table to store intermediate results. This is the big chungus pattern.\n",
    "\n",
    "#### Pros\n",
    "- Avoid recursion, reducing overhead\n",
    "- Generally use less memory\n",
    "    - Overall, better performance for larger input\n",
    "\n",
    "#### Cons\n",
    "- Less intuitive\n",
    "- Requires understanding the order in which to solve subproblems"
   ]
  },
  {
   "cell_type": "code",
   "execution_count": null,
   "metadata": {},
   "outputs": [],
   "source": [
    "def tab_fib(n):\n",
    "    memo = {}\n",
    "\n",
    "    for i in range(1, n+1):\n",
    "        if i <= 2:\n",
    "            result = 1\n",
    "        else:\n",
    "            result = memo[i-1] + memo[i-2]\n",
    "        memo[i] = result\n",
    "    \n",
    "    return memo[n]"
   ]
  }
 ],
 "metadata": {
  "kernelspec": {
   "display_name": "venv",
   "language": "python",
   "name": "python3"
  },
  "language_info": {
   "codemirror_mode": {
    "name": "ipython",
    "version": 3
   },
   "file_extension": ".py",
   "mimetype": "text/x-python",
   "name": "python",
   "nbconvert_exporter": "python",
   "pygments_lexer": "ipython3",
   "version": "3.9.6"
  }
 },
 "nbformat": 4,
 "nbformat_minor": 2
}
