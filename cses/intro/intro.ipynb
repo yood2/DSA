{
 "cells": [
  {
   "cell_type": "markdown",
   "metadata": {},
   "source": [
    "# Competitive Programming\n",
    "1. Design of algorithms: Consists of problem solving and mathematiccal thinking.\n",
    "2. Implementation of algorithms: Requires good programming skills."
   ]
  },
  {
   "cell_type": "markdown",
   "metadata": {},
   "source": [
    "## Input and Output\n",
    "Standard streams are used for reading/writing input/output. Sometimes you may even need to open files."
   ]
  },
  {
   "cell_type": "code",
   "execution_count": null,
   "metadata": {},
   "outputs": [],
   "source": [
    "# input:\n",
    "n = input()\n",
    "\n",
    "# output:\n",
    "print(n)\n",
    "\n",
    "# reading files:\n",
    "f = open('file.txt', 'r')"
   ]
  },
  {
   "cell_type": "markdown",
   "metadata": {},
   "source": [
    "## Working with numbers\n",
    "- Integers are 32-bit type.\n",
    "- Modular Arithmetic, denoted $x mod m$, is the remainder when $x$ is divided by $m$.\n",
    "- Floating point are 64-bit doubles."
   ]
  },
  {
   "cell_type": "markdown",
   "metadata": {},
   "source": [
    "## Shortening Code\n",
    "Short code is ideal in competitive programming. Often define shorter names for datatypes and other parts of code. In C++, you can use `typedef long long ll;` to change `long long` into `ll`. Python, just define a class."
   ]
  },
  {
   "cell_type": "code",
   "execution_count": null,
   "metadata": {},
   "outputs": [],
   "source": [
    "class Foo:\n",
    "    a = 1\n",
    "    b = 2\n",
    "    def sum(self):\n",
    "        return a + b"
   ]
  },
  {
   "cell_type": "markdown",
   "metadata": {},
   "source": [
    "## Macros\n",
    "Shorten code by defining macros, which are certain strings that will be changed before compilation. More of a C++ thing."
   ]
  },
  {
   "cell_type": "markdown",
   "metadata": {},
   "source": [
    "## Mathematics\n",
    "Math is important. Some important math concepts and formulas:\n",
    "#### Summations\n",
    "- $\\sum^n_{x=1}x=\\frac{n(n+1)}{2}$\n",
    "- $\\sum^n_{x=1}x^2 = \\frac{n(n+1)(2n+1)}{6}$\n",
    "#### Arithmetic Progressions\n",
    "- When sequence of numbers have constant difference like 3,7,11,15 (n = series length, a = initial, b = difference):\n",
    "$$\\frac{n(a+b)}{2}$$\n",
    "- Geometric Progression is sequence where ratio between consecutive numbers are constant like 3,6,12,24:\n",
    "$$\n",
    "a+ak+ak^2+...+b = \\frac{bk-a}{k-1}\n",
    "$$\n",
    "- Special case of geometric progression:\n",
    "$$\n",
    "1+2+4+8+...+2^{n-1} = 2^n - 1\n",
    "$$\n",
    "- Harmonic Sum:\n",
    "$$\n",
    "\\sum^n_{x=1} \\frac{1}{x} = 1 + \\frac 1 2 + \\frac 1 3 + ... + \\frac 1 n\n",
    "$$"
   ]
  }
 ],
 "metadata": {
  "language_info": {
   "name": "python"
  }
 },
 "nbformat": 4,
 "nbformat_minor": 2
}
